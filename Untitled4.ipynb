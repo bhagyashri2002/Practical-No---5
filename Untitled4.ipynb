{
  "nbformat": 4,
  "nbformat_minor": 0,
  "metadata": {
    "colab": {
      "name": "Untitled4.ipynb",
      "provenance": []
    },
    "kernelspec": {
      "name": "python3",
      "display_name": "Python 3"
    },
    "language_info": {
      "name": "python"
    }
  },
  "cells": [
    {
      "cell_type": "markdown",
      "source": [
        "Practical No:- 5\n",
        "Write a program to create, append, and remove list in python"
      ],
      "metadata": {
        "id": "Can206bx-5GD"
      }
    },
    {
      "cell_type": "code",
      "execution_count": 2,
      "metadata": {
        "colab": {
          "base_uri": "https://localhost:8080/"
        },
        "id": "11epZHTR-I1t",
        "outputId": "d93f84a8-a1e2-4cda-a642-352d6e1b0001"
      },
      "outputs": [
        {
          "output_type": "stream",
          "name": "stdout",
          "text": [
            "initially list is : [10, 20, 30]list after appending 40: [10, 20, 30, 40]list after appending 50: [10, 20, 30, 40, 50]list after appending 20: [10, 30, 40, 50]"
          ]
        }
      ],
      "source": [
        "#create append and remove list\n",
        "#append() \n",
        "list=[10,20,30];\n",
        "print(\"initially list is :\",list,end=\"\");\n",
        "list.append(40) \n",
        "print(\"list after appending 40:\",list ,end=\"\"); \n",
        "list.append(50) \n",
        "print(\"list after appending 50:\",list ,end=\"\"); \n",
        "list.remove(20)\n",
        "print(\"list after appending 20:\",list ,end=\"\");\n"
      ]
    }
  ]
}